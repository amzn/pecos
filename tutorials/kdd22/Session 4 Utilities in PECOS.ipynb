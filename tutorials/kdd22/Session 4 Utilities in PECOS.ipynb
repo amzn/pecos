{
 "cells": [
  {
   "cell_type": "markdown",
   "id": "b1ebc316",
   "metadata": {},
   "source": [
    "# Useful Utilities in PECOS\n",
    "\n",
    "PECOS provides various useful interfaces and utility functions for XMC problems and related tasks. In this session, we will present some utilities in PECOS for efficient matrix operations and hierarchical clustering.\n",
    "\n",
    "## Outline\n",
    "\n",
    "1. Sparse Matrix Operations\n",
    "2. Hierarchical Clustering"
   ]
  },
  {
   "cell_type": "markdown",
   "id": "c2b3f61e",
   "metadata": {},
   "source": [
    "## 1. Sparse Matrix Operations\n",
    "\n",
    "Most of the computations in PECOS are based on sparse matrices, so PECOS also provides various useful and efficient operation utilities for sparse matrices."
   ]
  },
  {
   "cell_type": "markdown",
   "id": "5fba58d4",
   "metadata": {},
   "source": [
    "### 1.1 Genric Matriox IO and Conversion\n",
    "\n",
    "`smat_util.load_matrix` and `smat_util.save_matrix` provide generic interfaces for loading and storing matrices in arbitrary common formats, including [dense matrix](https://numpy.org/doc/stable/reference/generated/numpy.array.html) in NumPy or different sparse matrix formats (i.e., [sparse Compressed Sparse Row (CSR) matrix](https://docs.scipy.org/doc/scipy/reference/generated/scipy.sparse.csr_matrix.html),  [sparse Compressed Sparse Column (CSC) matrix](https://docs.scipy.org/doc/scipy/reference/generated/scipy.sparse.csc_matrix.html), and  [sparse COOrdinate (COO) matrix](https://docs.scipy.org/doc/scipy/reference/generated/scipy.sparse.csc_matrix.html))."
   ]
  },
  {
   "cell_type": "code",
   "execution_count": 1,
   "id": "385ed0ba",
   "metadata": {},
   "outputs": [
    {
     "name": "stdout",
     "output_type": "stream",
     "text": [
      "Dense Matrtix IO\n",
      "mat is a <class 'numpy.ndarray'> matrix with a shape (2, 3).\n",
      "[[0.32706124 0.94765886 0.16764024]\n",
      " [0.29065096 0.23160388 0.3871939 ]]\n",
      "mat_loaded is a <class 'numpy.ndarray'> matrix with a shape (2, 3).\n",
      "[[0.32706124 0.94765886 0.16764024]\n",
      " [0.29065096 0.23160388 0.3871939 ]]\n",
      "\n",
      "csr Sparse Matrix IO\n",
      "mat is a <class 'scipy.sparse.csr.csr_matrix'> matrix with a shape (5, 4) and 4 non-zero values.\n",
      "  (1, 1)\t0.3859982113301277\n",
      "  (2, 1)\t0.5399444869534915\n",
      "  (3, 1)\t0.008896715300809821\n",
      "  (4, 2)\t0.9634283904734527\n",
      "mat_loaded is a <class 'scipy.sparse.csr.csr_matrix'> matrix with a shape (5, 4) and 4 non-zero values.\n",
      "  (1, 1)\t0.3859982113301277\n",
      "  (2, 1)\t0.5399444869534915\n",
      "  (3, 1)\t0.008896715300809821\n",
      "  (4, 2)\t0.9634283904734527\n",
      "\n",
      "csc Sparse Matrix IO\n",
      "mat is a <class 'scipy.sparse.csc.csc_matrix'> matrix with a shape (5, 4) and 4 non-zero values.\n",
      "  (2, 0)\t0.8430107100693552\n",
      "  (0, 3)\t0.5602000410939516\n",
      "  (3, 3)\t0.4358575080842668\n",
      "  (4, 3)\t0.454532975053182\n",
      "mat_loaded is a <class 'scipy.sparse.csc.csc_matrix'> matrix with a shape (5, 4) and 4 non-zero values.\n",
      "  (2, 0)\t0.8430107100693552\n",
      "  (0, 3)\t0.5602000410939516\n",
      "  (3, 3)\t0.4358575080842668\n",
      "  (4, 3)\t0.454532975053182\n",
      "\n",
      "coo Sparse Matrix IO\n",
      "mat is a <class 'scipy.sparse.coo.coo_matrix'> matrix with a shape (5, 4) and 4 non-zero values.\n",
      "  (2, 0)\t0.6008844736009242\n",
      "  (3, 3)\t0.5296164005351621\n",
      "  (3, 2)\t0.6884529935778093\n",
      "  (0, 3)\t0.847894528567365\n",
      "mat_loaded is a <class 'scipy.sparse.coo.coo_matrix'> matrix with a shape (5, 4) and 4 non-zero values.\n",
      "  (2, 0)\t0.6008844736009242\n",
      "  (3, 3)\t0.5296164005351621\n",
      "  (3, 2)\t0.6884529935778093\n",
      "  (0, 3)\t0.847894528567365\n",
      "\n"
     ]
    }
   ],
   "source": [
    "from pecos.utils import smat_util\n",
    "import numpy as np\n",
    "import scipy.sparse as smat\n",
    "\n",
    "print(\"Dense Matrtix IO\")\n",
    "mat = np.random.rand(2, 3)\n",
    "print(f\"mat is a {type(mat)} matrix with a shape {mat.shape}.\")\n",
    "print(mat)\n",
    "smat_util.save_matrix(\"mat.npz\", mat)\n",
    "mat_loaded = smat_util.load_matrix(\"mat.npz\")\n",
    "print(f\"mat_loaded is a {type(mat_loaded)} matrix with a shape {mat_loaded.shape}.\")\n",
    "print(mat)\n",
    "print(\"\")    \n",
    "\n",
    "for matrix_format in [\"csr\", \"csc\", \"coo\"]:\n",
    "    print(f\"{matrix_format} Sparse Matrix IO\")\n",
    "    mat = smat.random(5, 4, density=0.2, format=matrix_format)\n",
    "    print(f\"mat is a {type(mat)} matrix\"\n",
    "          f\" with a shape {mat.shape} and {mat.nnz} non-zero values.\")\n",
    "    print(mat)\n",
    "    \n",
    "    smat_util.save_matrix(\"mat.npz\", mat)\n",
    "    mat_loaded = smat_util.load_matrix(\"mat.npz\")\n",
    "    print(f\"mat_loaded is a {type(mat_loaded)} matrix\"\n",
    "          f\" with a shape {mat_loaded.shape} and {mat_loaded.nnz} non-zero values.\")\n",
    "    print(mat_loaded)\n",
    "    print(\"\")    "
   ]
  },
  {
   "cell_type": "code",
   "execution_count": 2,
   "id": "2579b855",
   "metadata": {},
   "outputs": [
    {
     "name": "stdout",
     "output_type": "stream",
     "text": [
      "Original Matrix mat\n",
      " [[0.16936286 0.78425304 0.8562633  0.61722574 0.4486684  0.23233178]\n",
      " [0.79099373 0.3961628  0.91564054 0.58414229 0.43155964 0.55876417]\n",
      " [0.44718835 0.05151288 0.42833526 0.12533758 0.2968885  0.82826553]\n",
      " [0.57886779 0.45415528 0.24104546 0.04155873 0.7281743  0.08374103]] \n",
      "\n",
      "csr_mat = dense_to_csr(mat)\n",
      "csr_mat is a <class 'scipy.sparse.csr.csr_matrix'> matrix with a shape (4, 6) and 24 non-zero values.\n",
      "[[0.16936286 0.78425304 0.8562633  0.61722574 0.4486684  0.23233178]\n",
      " [0.79099373 0.3961628  0.91564054 0.58414229 0.43155964 0.55876417]\n",
      " [0.44718835 0.05151288 0.42833526 0.12533758 0.2968885  0.82826553]\n",
      " [0.57886779 0.45415528 0.24104546 0.04155873 0.7281743  0.08374103]] \n",
      "\n",
      "csr_mat_topk = dense_to_csr(mat, topk=2)\n",
      "csr_mat is a <class 'scipy.sparse.csr.csr_matrix'> matrix with a shape (4, 6) and 8 non-zero values.\n",
      "[[0.         0.78425304 0.8562633  0.         0.         0.        ]\n",
      " [0.79099373 0.         0.91564054 0.         0.         0.        ]\n",
      " [0.         0.         0.42833526 0.         0.         0.82826553]\n",
      " [0.         0.45415528 0.         0.         0.7281743  0.        ]] \n",
      "\n"
     ]
    }
   ],
   "source": [
    "mat = np.random.rand(4, 6)\n",
    "\n",
    "print(f\"Original Matrix mat\\n\", mat, \"\\n\")\n",
    "\n",
    "print(\"csr_mat = dense_to_csr(mat)\")\n",
    "csr_mat = smat_util.dense_to_csr(mat)\n",
    "print(f\"csr_mat is a {type(csr_mat)} matrix\"\n",
    "      f\" with a shape {csr_mat.shape} and {csr_mat.nnz} non-zero values.\")\n",
    "print(csr_mat.toarray(), \"\\n\")\n",
    "\n",
    "print(\"csr_mat_topk = dense_to_csr(mat, topk=2)\")\n",
    "csr_mat_topk = smat_util.dense_to_csr(mat, topk=2)\n",
    "print(f\"csr_mat is a {type(csr_mat_topk)} matrix\"\n",
    "      f\" with a shape {csr_mat_topk.shape} and {csr_mat_topk.nnz} non-zero values.\")\n",
    "print(csr_mat_topk.toarray(), \"\\n\")"
   ]
  },
  {
   "cell_type": "markdown",
   "id": "b2746e3c",
   "metadata": {},
   "source": [
    "### 1.2. Memory-efficient Sparse Matrix Operations\n",
    "\n",
    "To manipulate with sparse matrix, PECOS provides many useful memory-efficient functions. For example, for CSR matrices, we have following functions to combine multiple matrices.\n",
    "\n",
    "* `hstack_csr([mat, mat, mat]`\n",
    "* `vstack_csr([mat, mat, mat]`\n",
    "* `block_diag_csr([mat, mat, mat]`\n",
    "\n",
    "These funcations are also available for CSC matrices as `hstack_csc`, `vstack_csr`, and `block_diag_csr`.\n"
   ]
  },
  {
   "cell_type": "code",
   "execution_count": 3,
   "id": "b9dac617",
   "metadata": {},
   "outputs": [
    {
     "name": "stdout",
     "output_type": "stream",
     "text": [
      "Original Matrix <class 'scipy.sparse.csr.csr_matrix'> mat\n",
      " [[0.77445782 0.45465131]\n",
      " [0.         0.43456434]\n",
      " [0.         0.        ]] \n",
      "\n",
      "hstack_csr([mat, mat, mat])\n",
      "[[0.77445782 0.45465131 0.77445782 0.45465131 0.77445782 0.45465131]\n",
      " [0.         0.43456434 0.         0.43456434 0.         0.43456434]\n",
      " [0.         0.         0.         0.         0.         0.        ]] \n",
      "\n",
      "vstack_csr([mat, mat, mat])\n",
      "[[0.77445782 0.45465131]\n",
      " [0.         0.43456434]\n",
      " [0.         0.        ]\n",
      " [0.77445782 0.45465131]\n",
      " [0.         0.43456434]\n",
      " [0.         0.        ]\n",
      " [0.77445782 0.45465131]\n",
      " [0.         0.43456434]\n",
      " [0.         0.        ]] \n",
      "\n",
      "block_diag_csr([mat, mat, mat])\n",
      "[[0.77445782 0.45465131 0.         0.         0.         0.        ]\n",
      " [0.         0.43456434 0.         0.         0.         0.        ]\n",
      " [0.         0.         0.         0.         0.         0.        ]\n",
      " [0.         0.         0.77445782 0.45465131 0.         0.        ]\n",
      " [0.         0.         0.         0.43456434 0.         0.        ]\n",
      " [0.         0.         0.         0.         0.         0.        ]\n",
      " [0.         0.         0.         0.         0.77445782 0.45465131]\n",
      " [0.         0.         0.         0.         0.         0.43456434]\n",
      " [0.         0.         0.         0.         0.         0.        ]] \n",
      "\n"
     ]
    }
   ],
   "source": [
    "from pecos.utils import smat_util\n",
    "import scipy.sparse as smat\n",
    "\n",
    "mat = smat.random(3, 2, density=0.5, format=\"csr\")\n",
    "print(f\"Original Matrix {type(mat)} mat\\n\", mat.toarray(), \"\\n\")\n",
    "\n",
    "print(f\"hstack_csr([mat, mat, mat])\")\n",
    "print(smat_util.hstack_csr([mat, mat, mat]).toarray(), \"\\n\")\n",
    "\n",
    "print(f\"vstack_csr([mat, mat, mat])\")\n",
    "print(smat_util.vstack_csr([mat, mat, mat]).toarray(), \"\\n\")\n",
    "\n",
    "print(f\"block_diag_csr([mat, mat, mat])\")\n",
    "print(smat_util.block_diag_csr([mat, mat, mat]).toarray(), \"\\n\")"
   ]
  },
  {
   "cell_type": "markdown",
   "id": "5f9cf7f1",
   "metadata": {},
   "source": [
    "### 1.3. Sparse-to-sparse Matrix Multiplication (SpMM)\n",
    "\n",
    "Many operations in PECOS or XMC problems rely on Sparse-to-sparse Matrix Multiplication (SpMM), such as the computation of PIFA features. It is also one of the key primitives in large-scale linear algebra operations, with a broad range of applications in machine learning and natural language processing.\n",
    "\n",
    "For SpMM, PECOS provides a highly optimized multi-core CPU implementation with state-of-the-art performance, where the underlying operations are implemented and optimized in C/C++.\n",
    "Specifically, the Python interface and parameters are as follows:\n",
    "\n",
    "```python\n",
    "from pecos.core import clib as pecos_clib\n",
    "Z = pecos_clib.sparse_matmul(X, Y, eliminate_zeros=False, sorted_indices=True, threads=-1)\n",
    "```\n",
    "* Parameters\n",
    "    * `X` (scipy.sparse.csr_matrix or scipy.sparse.csc_matrix): the first sparse matrix to be multiplied.\n",
    "    * `Y` (scipy.sparse.csr_matrix or scipy.sparse.csc_matrix): the second sparse matrix to be multiplied.\n",
    "    * `eliminate_zeros` (bool, optional): if true, then eliminate (potential) zeros created by maxnnz in output matrix Z. Default is false.\n",
    "    * `sorted_indices` (bool, optional): if true, then sort the Z.indices for the output matrix Z. Default is true.\n",
    "    * `threads` (int, optional): The number of threads. Default -1 to use all CPU cores."
   ]
  },
  {
   "cell_type": "code",
   "execution_count": 4,
   "id": "b2e6c54a",
   "metadata": {},
   "outputs": [
    {
     "name": "stdout",
     "output_type": "stream",
     "text": [
      "||Z_true - Z_pred|| =  0.0\n"
     ]
    }
   ],
   "source": [
    "import numpy as np\n",
    "import scipy.sparse as smat\n",
    "from scipy.sparse import linalg\n",
    "from pecos.core import clib as pecos_clib\n",
    "X = smat.random(1000, 1000, density=0.01, format='csr', dtype=np.float32)\n",
    "Y = smat.random(1000, 1000, density=0.01, format='csr', dtype=np.float32)\n",
    "Z_true = X.dot(Y)\n",
    "Z_pred = pecos_clib.sparse_matmul(X, Y)\n",
    "print(\"||Z_true - Z_pred|| = \", linalg.norm(Z_true - Z_pred))"
   ]
  },
  {
   "cell_type": "code",
   "execution_count": 5,
   "id": "14e4bded",
   "metadata": {},
   "outputs": [],
   "source": [
    "import time\n",
    "DATASET = \"wiki10-31k\"\n",
    "X = smat_util.load_matrix(f\"xmc-base/{DATASET}/tfidf-attnxml/X.trn.npz\").astype(np.float32)\n",
    "Y = smat_util.load_matrix(f\"xmc-base/{DATASET}/Y.trn.npz\").astype(np.float32)\n",
    "YT_csr = Y.T.tocsr()\n",
    "X_csr = X.tocsr()"
   ]
  },
  {
   "cell_type": "markdown",
   "id": "bb5af1e9",
   "metadata": {},
   "source": [
    "#### Benchmarking Sparse Matrix Muplication\n",
    "\n",
    "The SpMM utility has state-of-the-art performance in efficiency as shown in the following figure.\n",
    "\n",
    "<div>\n",
    "<br/><img src=\"imgs/pecos_spmm.png\" width=\"60%\"/>\n",
    "</div>\n",
    "\n",
    "In this part, we provide some hands-on instructions for benchmarking different methods for SpMM."
   ]
  },
  {
   "cell_type": "code",
   "execution_count": 6,
   "id": "c71cffdb",
   "metadata": {},
   "outputs": [],
   "source": [
    "# Benchmarking SciPy\n",
    "\n",
    "start = time.time()\n",
    "Z = YT_csr.dot(X_csr)\n",
    "Z.sort_indices()\n",
    "run_time_scipy = time.time() - start"
   ]
  },
  {
   "cell_type": "code",
   "execution_count": 7,
   "id": "2f2b9795",
   "metadata": {},
   "outputs": [],
   "source": [
    "# Benchmarking PyTorch\n",
    "\n",
    "import torch\n",
    "\n",
    "def csr_to_coo(A):\n",
    "    A_coo = smat.coo_matrix(A)\n",
    "    indices = np.vstack([A_coo.row, A_coo.col]).T\n",
    "    values = A_coo.data\n",
    "    return indices, values\n",
    "\n",
    "def get_pt_data(A_csr):\n",
    "    A_indices, A_values = csr_to_coo(A_csr)\n",
    "    A_pt = torch.sparse_coo_tensor(\n",
    "        A_indices.T.astype(np.int64),\n",
    "        A_values.astype(np.float32),\n",
    "        A_csr.shape,\n",
    "    )\n",
    "    return A_pt\n",
    "    \n",
    "YT_pt = get_pt_data(YT_csr)\n",
    "X_pt = get_pt_data(X_csr)\n",
    "start = time.time()\n",
    "Z_pt = torch.sparse.mm(YT_pt, X_pt)\n",
    "run_time_pytorch = time.time() - start"
   ]
  },
  {
   "cell_type": "code",
   "execution_count": 8,
   "id": "54b24694",
   "metadata": {},
   "outputs": [],
   "source": [
    "# Benchmarking PECOS\n",
    "\n",
    "start = time.time()\n",
    "Z = pecos_clib.sparse_matmul(\n",
    "    YT_csr, X_csr,\n",
    "    eliminate_zeros=False,\n",
    "    sorted_indices=True\n",
    ")\n",
    "run_time_pecos = time.time() - start"
   ]
  },
  {
   "cell_type": "code",
   "execution_count": 9,
   "id": "e12f29e9",
   "metadata": {},
   "outputs": [
    {
     "data": {
      "image/png": "[encoded data removed]",
      "text/plain": [
       "<Figure size 432x288 with 1 Axes>"
      ]
     },
     "metadata": {
      "needs_background": "light"
     },
     "output_type": "display_data"
    }
   ],
   "source": [
    "from matplotlib import pyplot as plt\n",
    "plt.bar(\n",
    "    [1,2,3],\n",
    "    [run_time_scipy, run_time_pytorch, run_time_pecos],\n",
    "    tick_label = [\"SciPy\", \"PyTorch\", \"PECOS\"])\n",
    "\n",
    "plt.ylabel(\"Matrix Multiplication Time (seconds)\");"
   ]
  },
  {
   "cell_type": "markdown",
   "id": "3e9cc45c",
   "metadata": {},
   "source": [
    "### 1.4. Sparse Matrix Operations for Working with Arbitrary Data Formats\n",
    "\n",
    "PECOS is a general machine learning framework and able to fit arbitary data format and interact with different data manipulation and analysis libraries like [Pandas](https://pandas.pydata.org/). In the following example, we will show how to learn a PECOS model with Pandas-loaded data of text, categorical, and numerical features based on sparse matrix operations."
   ]
  },
  {
   "cell_type": "code",
   "execution_count": 10,
   "id": "9f0f17a7",
   "metadata": {},
   "outputs": [],
   "source": [
    "import pecos\n",
    "import pandas as pd\n",
    "import numpy as np"
   ]
  },
  {
   "cell_type": "code",
   "execution_count": 11,
   "id": "526820f8",
   "metadata": {},
   "outputs": [
    {
     "name": "stdout",
     "output_type": "stream",
     "text": [
      "2022-08-13 06:42:02 URL:https://archive.ics.uci.edu/ml/machine-learning-databases/00461/drugLib_raw.zip [1133354/1133354] -> \"drugLib_raw.zip\" [1]\n",
      "Archive:  drugLib_raw.zip\n",
      "  inflating: drugLibTest_raw.tsv     \n",
      "  inflating: drugLibTrain_raw.tsv    \n"
     ]
    }
   ],
   "source": [
    "! wget -nv -nc https://archive.ics.uci.edu/ml/machine-learning-databases/00461/drugLib_raw.zip\n",
    "! unzip -o drugLib_raw.zip"
   ]
  },
  {
   "cell_type": "code",
   "execution_count": 12,
   "id": "ac8ab46f",
   "metadata": {},
   "outputs": [
    {
     "name": "stdout",
     "output_type": "stream",
     "text": [
      "Training DataFrame consists of 3107 instances.\n",
      "Testing DataFrame consists of 1036 instances.\n",
      "Index(['Unnamed: 0', 'urlDrugName', 'rating', 'effectiveness', 'sideEffects',\n",
      "       'condition', 'benefitsReview', 'sideEffectsReview', 'commentsReview'],\n",
      "      dtype='object')\n"
     ]
    }
   ],
   "source": [
    "train_df = pd.read_csv(\"drugLibTrain_raw.tsv\", sep=\"\\t\")\n",
    "test_df =  pd.read_csv(\"drugLibTest_raw.tsv\", sep=\"\\t\")\n",
    "print(f\"Training DataFrame consists of {len(train_df)} instances.\")\n",
    "print(f\"Testing DataFrame consists of {len(test_df)} instances.\")\n",
    "print(train_df.columns)"
   ]
  },
  {
   "cell_type": "code",
   "execution_count": 13,
   "id": "6d6ee989",
   "metadata": {},
   "outputs": [],
   "source": [
    "label_name = \"effectiveness\"\n",
    "text_features = [\"condition\", \"benefitsReview\", \"sideEffectsReview\", \"commentsReview\"]\n",
    "categorical_features = [\"sideEffects\"]\n",
    "numerical_features = [\"rating\"]"
   ]
  },
  {
   "cell_type": "code",
   "execution_count": 14,
   "id": "c25b1cb2",
   "metadata": {},
   "outputs": [],
   "source": [
    "X_trn_list = []\n",
    "X_tst_list = []"
   ]
  },
  {
   "cell_type": "markdown",
   "id": "4f72d047",
   "metadata": {},
   "source": [
    "#### Label Encoding\n",
    "\n",
    "To encode labels into the sparse matrix format compatible to PECOS, [OneHotEncoder](https://scikit-learn.org/stable/modules/generated/sklearn.preprocessing.OneHotEncoder.html) and [MultiLabelBinarizer](https://scikit-learn.org/stable/modules/generated/sklearn.preprocessing.MultiLabelBinarizer.html#sklearn.preprocessing.MultiLabelBinarizer) are helpful for the scenarios of multi-class and multi-label classification."
   ]
  },
  {
   "cell_type": "code",
   "execution_count": 15,
   "id": "4f0d9ec7",
   "metadata": {},
   "outputs": [
    {
     "name": "stdout",
     "output_type": "stream",
     "text": [
      "Y_trn is a csr matrix with a shape (3107, 5) and 3107 non-zero values.\n",
      "Y_tst is a csr matrix with a shape (1036, 5) and 1036 non-zero values.\n"
     ]
    }
   ],
   "source": [
    "from sklearn.preprocessing import OneHotEncoder\n",
    "\n",
    "label_encoder = OneHotEncoder(dtype=np.float32)\n",
    "Y_trn = label_encoder.fit_transform(train_df[[label_name]])\n",
    "Y_tst = label_encoder.transform(test_df[[label_name]])\n",
    "\n",
    "print(f\"Y_trn is a {Y_trn.getformat()} matrix with a shape {Y_trn.shape} and {Y_trn.nnz} non-zero values.\")\n",
    "print(f\"Y_tst is a {Y_tst.getformat()} matrix with a shape {Y_tst.shape} and {Y_tst.nnz} non-zero values.\")"
   ]
  },
  {
   "cell_type": "code",
   "execution_count": 16,
   "id": "62ec7371",
   "metadata": {},
   "outputs": [
    {
     "name": "stdout",
     "output_type": "stream",
     "text": [
      "Y_trn_mlb is a csr matrix with a shape (3107, 5) and 3107 non-zero values.\n",
      "Y_tst_mlb is a csr matrix with a shape (1036, 5) and 1036 non-zero values.\n"
     ]
    }
   ],
   "source": [
    "from sklearn.preprocessing import MultiLabelBinarizer\n",
    "\n",
    "label_encoder_multilabel = MultiLabelBinarizer(sparse_output=True)\n",
    "Y_trn_mlb = label_encoder.fit_transform([[lbl] for lbl in train_df[label_name].tolist()])\n",
    "Y_tst_mlb = label_encoder.fit_transform([[lbl] for lbl in test_df[label_name].tolist()])\n",
    "print(f\"Y_trn_mlb is a {Y_trn_mlb.getformat()} matrix with a shape {Y_trn_mlb.shape} and {Y_trn_mlb.nnz} non-zero values.\")\n",
    "print(f\"Y_tst_mlb is a {Y_tst_mlb.getformat()} matrix with a shape {Y_tst_mlb.shape} and {Y_tst_mlb.nnz} non-zero values.\")"
   ]
  },
  {
   "cell_type": "markdown",
   "id": "260a9a8a",
   "metadata": {},
   "source": [
    "#### 1.4.2. Text Feature Encoding\n",
    "\n",
    "As introduced in Session 1, we can use PECOS vectorizer for featurize text data. In addition, the encoder of [XR-Transformer](https://github.com/amzn/pecos/tree/mainline/pecos/xmc/xtransformer) can be also utilized for deriving text features with proper fine-tuning."
   ]
  },
  {
   "cell_type": "code",
   "execution_count": 17,
   "id": "96fef619",
   "metadata": {},
   "outputs": [
    {
     "name": "stdout",
     "output_type": "stream",
     "text": [
      "condition: (3107, 3759) and (1036, 3759) in training and testing.\n",
      "benefitsReview: (3107, 72861) and (1036, 72861) in training and testing.\n",
      "sideEffectsReview: (3107, 64321) and (1036, 64321) in training and testing.\n",
      "commentsReview: (3107, 91731) and (1036, 91731) in training and testing.\n"
     ]
    }
   ],
   "source": [
    "from pecos.utils.featurization.text.vectorizers import Vectorizer\n",
    "\n",
    "for feature_name in text_features:\n",
    "    vectorizer_config = {\n",
    "        \"type\": \"tfidf\",\n",
    "        \"kwargs\": {\n",
    "          \"base_vect_configs\": [\n",
    "\n",
    "            {\n",
    "              \"ngram_range\": [1, 2],\n",
    "              \"max_df_ratio\": 0.98,\n",
    "              \"analyzer\": \"word\",\n",
    "            },\n",
    "          ],\n",
    "        },\n",
    "      }   \n",
    "    train_texts = [str(x) for x in train_df[feature_name].tolist()]\n",
    "    test_texts = test_df[feature_name].tolist()\n",
    "    vectorizer = Vectorizer.train(train_texts, config=vectorizer_config)\n",
    "    X_trn_local = vectorizer.predict(train_texts)\n",
    "    X_tst_local = vectorizer.predict(test_texts)\n",
    "    print(f\"{feature_name}: {X_trn_local.shape} and {X_tst_local.shape} in training and testing.\")\n",
    "    \n",
    "    X_trn_list.append(X_trn_local)\n",
    "    X_tst_list.append(X_tst_local)"
   ]
  },
  {
   "cell_type": "markdown",
   "id": "38e75fa2",
   "metadata": {},
   "source": [
    "#### 1.4.3. Categorical Feature Encoding\n",
    "\n",
    "Similar to labels, categorical features can also be considered as one-hot or multi-hot embeddings."
   ]
  },
  {
   "cell_type": "code",
   "execution_count": 18,
   "id": "386b96ad",
   "metadata": {},
   "outputs": [
    {
     "name": "stdout",
     "output_type": "stream",
     "text": [
      "sideEffects: (3107, 5) and (1036, 5) in training and testing.\n"
     ]
    }
   ],
   "source": [
    "from sklearn.preprocessing import OneHotEncoder\n",
    "\n",
    "for feature_name in categorical_features:\n",
    "    local_encoder = OneHotEncoder(dtype=np.float32)\n",
    "    X_trn_local = local_encoder.fit_transform(train_df[[feature_name]])\n",
    "    X_tst_local = local_encoder.transform(test_df[[feature_name]])\n",
    "    print(f\"{feature_name}: {X_trn_local.shape} and {X_tst_local.shape} in training and testing.\")\n",
    "    \n",
    "    X_trn_list.append(X_trn_local)\n",
    "    X_tst_list.append(X_tst_local)"
   ]
  },
  {
   "cell_type": "markdown",
   "id": "6deaf4e8",
   "metadata": {},
   "source": [
    "#### 1.4.4. Numerical Features Encoding\n",
    "\n",
    "Numberical features can be directly incorporated as model inputs after some simple normalization."
   ]
  },
  {
   "cell_type": "code",
   "execution_count": 19,
   "id": "90668ea4",
   "metadata": {},
   "outputs": [
    {
     "name": "stdout",
     "output_type": "stream",
     "text": [
      "rating: (3107, 1) and (1036, 1) in training and testing.\n"
     ]
    }
   ],
   "source": [
    "from scipy.sparse import csr_matrix\n",
    "from sklearn.preprocessing import StandardScaler\n",
    "\n",
    "for feature_name in numerical_features:\n",
    "    X_trn_values = train_df[[\"rating\"]].values\n",
    "    X_tst_values = test_df[[\"rating\"]].values\n",
    "    scaler = StandardScaler()\n",
    "    X_trn_local = csr_matrix(scaler.fit_transform(X_trn_values), dtype=np.float32)\n",
    "    X_tst_local = csr_matrix(scaler.transform(X_tst_values), dtype=np.float32)\n",
    "    print(f\"{feature_name}: {X_trn_local.shape} and {X_tst_local.shape} in training and testing.\")\n",
    "    \n",
    "    X_trn_list.append(X_trn_local)\n",
    "    X_tst_list.append(X_tst_local)"
   ]
  },
  {
   "cell_type": "markdown",
   "id": "d2441580",
   "metadata": {},
   "source": [
    "#### 1.4.5. Feature Concatenation\n",
    "\n",
    "PECOS provides easy-going utility functions for efficient matrix operations. The `hstack_csr` function can concatenate different features for each individual instance.  More detils about other utilities will be introduced later in this session."
   ]
  },
  {
   "cell_type": "code",
   "execution_count": 20,
   "id": "d0d3e69c",
   "metadata": {},
   "outputs": [
    {
     "name": "stdout",
     "output_type": "stream",
     "text": [
      "X_trn is a csr matrix with a shape (3107, 232678) and 653987 non-zero values.\n",
      "X_tst is a csr matrix with a shape (1036, 232678) and 164272 non-zero values.\n"
     ]
    }
   ],
   "source": [
    "from pecos.utils import smat_util\n",
    "\n",
    "X_trn = smat_util.hstack_csr(X_trn_list)\n",
    "X_tst = smat_util.hstack_csr(X_tst_list)\n",
    "\n",
    "print(f\"X_trn is a {X_trn.getformat()} matrix with a shape {X_trn.shape} and {X_trn.nnz} non-zero values.\")\n",
    "print(f\"X_tst is a {X_tst.getformat()} matrix with a shape {X_tst.shape} and {X_tst.nnz} non-zero values.\")"
   ]
  },
  {
   "cell_type": "markdown",
   "id": "5e61775b",
   "metadata": {},
   "source": [
    "#### 1.4.6.  Model Training and Testing"
   ]
  },
  {
   "cell_type": "code",
   "execution_count": 21,
   "id": "38189597",
   "metadata": {},
   "outputs": [
    {
     "name": "stdout",
     "output_type": "stream",
     "text": [
      "prec   = 52.80 40.69 30.92 24.52 20.00\n",
      "recall = 52.80 81.37 92.76 98.07 100.00\n"
     ]
    }
   ],
   "source": [
    "from pecos.xmc.xlinear.model import XLinearModel\n",
    "xlm = XLinearModel.train(X_trn, Y_trn)\n",
    "\n",
    "Y_pred = xlm.predict(X_tst, beam_size=10, only_topk=5)\n",
    "metrics = smat_util.Metrics.generate(Y_tst, Y_pred, topk=5)\n",
    "print(metrics)"
   ]
  },
  {
   "cell_type": "markdown",
   "id": "1f833846",
   "metadata": {},
   "source": [
    "## 2. Hierarchical Clustering\n",
    "\n",
    "Hierarchical clustering is an essential function for tree-based XMC models and plays a role of the indexer in PECOS. Accordingly, PECOS also implements hierarchical K-means algorithms in the manner of efficient C/C++, which can also be considered as useful functions for arbitrary tasks. The Python interface of PECOS hierarchical K-means algorithms is as follows:\n",
    "\n",
    "```python\n",
    "from pecos.xmc import HierarchicalKMeans\n",
    "HierarchicalKMeans.gen(feature_matrix, ... [training parameters])\n",
    "```\n",
    "* Training Parameters\n",
    "    * `nr_splits` (int, optional): The out-degree of each internal node of the tree. Ignored if `imbalanced_ratio != 0` because imbalanced clustering supports only 2-means. Default is `16`.\n",
    "    * `min_codes` (int): The number of direct child nodes that the top level of the hierarchy should have.\n",
    "    * `max_leaf_size` (int, optional): The maximum size of each leaf node of the tree. Default is `100`.\n",
    "    * `spherical` (bool, optional): True will l2-normalize the centroids of k-means after each iteration. Default is `True`.\n",
    "    * `seed` (int, optional): Random seed. Default is `0`.\n",
    "    * `kmeans_max_iter` (int, optional): Maximum number of iterations for each k-means problem. Default is `20`.\n",
    "    * `threads` (int, optional): Number of threads to use. `-1` denotes all CPUs. Default is `-1`.\n",
    "    \n",
    "#### Clustering Chains\n",
    "\n",
    "Similar to the results of semantic label indexing in PECOS, the hierarchical clustering results will be returned as a list of `D` CSC matrices `C[d]` to denote hierarchical cluster assignments over layers, where `D` is the layers of resulting hierarchical clusters."
   ]
  },
  {
   "cell_type": "markdown",
   "id": "3b3b073c",
   "metadata": {},
   "source": [
    "### 2.1. Naive Clustering as Degenerated Hierarchical Clustering\n",
    "\n",
    "When `min_codes` and `max_leaf_size` as the stopping criteria are large enough, the hierarchical clustering will be degenerated to conventional naive clustering."
   ]
  },
  {
   "cell_type": "code",
   "execution_count": 22,
   "id": "4a5da8c1",
   "metadata": {},
   "outputs": [],
   "source": [
    "from pecos.utils import smat_util\n",
    "import time\n",
    "DATASET = \"wiki10-31k\"\n",
    "X = smat_util.load_matrix(f\"xmc-base/{DATASET}/tfidf-attnxml/X.trn.npz\").astype(np.float32)\n",
    "Y = smat_util.load_matrix(f\"xmc-base/{DATASET}/Y.trn.npz\").astype(np.float32)\n",
    "YT_csr = Y.T.tocsr()\n",
    "X_csr = X.tocsr()"
   ]
  },
  {
   "cell_type": "code",
   "execution_count": 23,
   "id": "088d87a3",
   "metadata": {},
   "outputs": [
    {
     "name": "stdout",
     "output_type": "stream",
     "text": [
      "2 layers in the trained hierarchical clusters with C[d] as:\n",
      "cluster_chain[0] is a csc matrix of shape (4, 1).\n",
      "cluster_chain[1] is a csc matrix of shape (14146, 4).\n"
     ]
    }
   ],
   "source": [
    "from pecos.xmc.base import HierarchicalKMeans\n",
    "import scipy.sparse as smat\n",
    "import numpy as np\n",
    "\n",
    "num_splits = 4\n",
    "cluster_chain = HierarchicalKMeans.gen(\n",
    "    X_csr,\n",
    "    min_codes=num_splits,\n",
    "    nr_splits=num_splits,\n",
    "    max_leaf_size=np.ceil(X_csr.shape[0]/num_splits))\n",
    "\n",
    "print(f\"{len(cluster_chain)} layers in the trained hierarchical clusters with C[d] as:\")\n",
    "for d, C in enumerate(cluster_chain):\n",
    "    print(f\"cluster_chain[{d}] is a {C.getformat()} matrix of shape {C.shape}.\")"
   ]
  },
  {
   "cell_type": "code",
   "execution_count": 24,
   "id": "ef1c9ee1",
   "metadata": {},
   "outputs": [
    {
     "name": "stdout",
     "output_type": "stream",
     "text": [
      "(14146,) (14146,)\n"
     ]
    },
    {
     "data": {
      "text/plain": [
       "<matplotlib.collections.PathCollection at 0x7f00e1c58290>"
      ]
     },
     "execution_count": 24,
     "metadata": {},
     "output_type": "execute_result"
    },
    {
     "data": {
      "image/png": "[encoded data removed]",
      "text/plain": [
       "<Figure size 432x288 with 1 Axes>"
      ]
     },
     "metadata": {
      "needs_background": "light"
     },
     "output_type": "display_data"
    }
   ],
   "source": [
    "from sklearn.decomposition import TruncatedSVD\n",
    "svd = TruncatedSVD(n_components=2)\n",
    "X_svd = svd.fit_transform(X_csr)\n",
    "\n",
    "from matplotlib import pyplot as plt\n",
    "cluster_x, cluster_y = X_svd[:, 0], X_svd[:, 1]\n",
    "cluster_c = list(cluster_chain[-1].tocsr().indices)\n",
    "print(cluster_x.shape, cluster_y.shape)\n",
    "plt.scatter(cluster_x, cluster_y, c=cluster_c, s=25)"
   ]
  },
  {
   "cell_type": "markdown",
   "id": "3acd550d",
   "metadata": {},
   "source": [
    "### 2.2. Tracing Cluster in Hierarchical Clustering"
   ]
  },
  {
   "cell_type": "code",
   "execution_count": 25,
   "id": "b6c75c21",
   "metadata": {},
   "outputs": [
    {
     "name": "stdout",
     "output_type": "stream",
     "text": [
      "4 layers in the trained hierarchical clusters with C[d] as:\n",
      "cluster_chain[0] is a csc matrix of shape (4, 1).\n",
      "cluster_chain[1] is a csc matrix of shape (32, 4).\n",
      "cluster_chain[2] is a csc matrix of shape (256, 32).\n",
      "cluster_chain[3] is a csc matrix of shape (14146, 256).\n"
     ]
    }
   ],
   "source": [
    "from pecos.xmc.base import HierarchicalKMeans\n",
    "import scipy.sparse as smat\n",
    "import numpy as np\n",
    "\n",
    "cluster_chain = HierarchicalKMeans.gen(X_csr, nr_splits=8)\n",
    "\n",
    "print(f\"{len(cluster_chain)} layers in the trained hierarchical clusters with C[d] as:\")\n",
    "for d, C in enumerate(cluster_chain):\n",
    "    print(f\"cluster_chain[{d}] is a {C.getformat()} matrix of shape {C.shape}.\")"
   ]
  },
  {
   "cell_type": "code",
   "execution_count": 26,
   "id": "dc644526",
   "metadata": {},
   "outputs": [
    {
     "name": "stdout",
     "output_type": "stream",
     "text": [
      "55 instances belong to the first cluster in the layer-3.\n",
      "442 instances belong to the first cluster in the layer-2.\n",
      "3536 instances belong to the first cluster in the layer-1.\n"
     ]
    }
   ],
   "source": [
    "from scipy.sparse import linalg\n",
    "from pecos.core import clib as pecos_clib\n",
    "\n",
    "current_cluster = cluster_chain[-1]\n",
    "for i in range(len(cluster_chain) - 2, -1, -1):\n",
    "    print(f\"{current_cluster.getnnz(0)[0]} instances belong to the first cluster in the layer-{i + 1}.\")\n",
    "    current_cluster = pecos_clib.sparse_matmul(current_cluster, cluster_chain[i])"
   ]
  },
  {
   "cell_type": "code",
   "execution_count": 27,
   "id": "f2203831",
   "metadata": {},
   "outputs": [
    {
     "name": "stdout",
     "output_type": "stream",
     "text": [
      "The 10-th instance belongs to the cluster-228 in the layer-3.\n",
      "The 10-th instance belongs to the cluster-28 in the layer-2.\n",
      "The 10-th instance belongs to the cluster-3 in the layer-1.\n"
     ]
    }
   ],
   "source": [
    "inst_idx = 10\n",
    "\n",
    "current_cluster = cluster_chain[-1]\n",
    "for i in range(len(cluster_chain) - 2, -1, -1):\n",
    "    print(f\"The {inst_idx}-th instance belongs to the cluster-{current_cluster.tocsr().indices[inst_idx]} in the layer-{i + 1}.\")\n",
    "    current_cluster = pecos_clib.sparse_matmul(current_cluster, cluster_chain[i])"
   ]
  },
  {
   "cell_type": "markdown",
   "id": "080f044a",
   "metadata": {},
   "source": [
    "### 2.3. Performance Benchmarking\n",
    "\n",
    "Here we benchmark the efficiency performance of PECOS hierarchicaly clustering and compare with a pure Python implementation based on [sklearn.cluster.KMeans](https://scikit-learn.org/stable/modules/generated/sklearn.cluster.KMeans.html)."
   ]
  },
  {
   "cell_type": "code",
   "execution_count": 28,
   "id": "cbcacb51",
   "metadata": {},
   "outputs": [
    {
     "name": "stdout",
     "output_type": "stream",
     "text": [
      "PECOS takes 1.0039 seconds for hierarchical clustering with a depth 5.\n"
     ]
    }
   ],
   "source": [
    "import time\n",
    "from pecos.xmc.base import HierarchicalKMeans\n",
    "\n",
    "nr_splits = 4\n",
    "\n",
    "start_time = time.time()\n",
    "cluster_chain = HierarchicalKMeans.gen(X_csr, nr_splits=nr_splits)\n",
    "pred_time = time.time() - start_time\n",
    "\n",
    "cluster_depth = len(cluster_chain)\n",
    "print(f\"PECOS takes {pred_time:.4f} seconds for hierarchical clustering with a depth {cluster_depth}.\")"
   ]
  },
  {
   "cell_type": "code",
   "execution_count": 29,
   "id": "5c8179cd",
   "metadata": {},
   "outputs": [
    {
     "name": "stdout",
     "output_type": "stream",
     "text": [
      "scikit-learn takes 58.2397 seconds for hierarchical clustering with a depth 5.\n"
     ]
    }
   ],
   "source": [
    "from sklearn.cluster import KMeans\n",
    "import numpy as np\n",
    "\n",
    "start_time = time.time()\n",
    "current_clusters = [X_csr]\n",
    "for d in range(cluster_depth):\n",
    "    next_clusters = []\n",
    "    for cur_X in current_clusters:\n",
    "        if cur_X.shape[0] >= nr_splits:\n",
    "            kmeans = KMeans(n_clusters=nr_splits).fit(cur_X)\n",
    "            next_clusters.append(cur_X[kmeans.labels_ == 0])\n",
    "            next_clusters.append(cur_X[kmeans.labels_ == 1])\n",
    "        else:\n",
    "            next_clusters.append(cur_X)\n",
    "        \n",
    "    current_clusters = next_clusters\n",
    "pred_time = time.time() - start_time\n",
    "\n",
    "print(f\"scikit-learn takes {pred_time:.4f} seconds for hierarchical clustering with a depth {cluster_depth}.\")"
   ]
  }
 ],
 "metadata": {
  "kernelspec": {
   "display_name": "Python 3 (ipykernel)",
   "language": "python",
   "name": "python3"
  },
  "language_info": {
   "codemirror_mode": {
    "name": "ipython",
    "version": 3
   },
   "file_extension": ".py",
   "mimetype": "text/x-python",
   "name": "python",
   "nbconvert_exporter": "python",
   "pygments_lexer": "ipython3",
   "version": "3.7.10"
  }
 },
 "nbformat": 4,
 "nbformat_minor": 5
}
